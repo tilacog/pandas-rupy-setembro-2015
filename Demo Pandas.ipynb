{
 "cells": [
  {
   "cell_type": "code",
   "execution_count": 1,
   "metadata": {
    "collapsed": true
   },
   "outputs": [],
   "source": [
    "import pandas as pd\n",
    "pd.set_option('html', False)"
   ]
  },
  {
   "cell_type": "code",
   "execution_count": 2,
   "metadata": {
    "collapsed": false
   },
   "outputs": [
    {
     "name": "stdout",
     "output_type": "stream",
     "text": [
      "SUMMARY\n",
      "================================================================================\n",
      "\n",
      "These files contain 1,000,209 anonymous ratings of approximately 3,900 movies \n",
      "made by 6,040 MovieLens users who joined MovieLens in 2000.\n",
      "\n",
      "1::Toy Story (1995)::Animation|Children's|Comedy\n",
      "2::Jumanji (1995)::Adventure|Children's|Fantasy\n",
      "3::Grumpier Old Men (1995)::Comedy|Romance\n",
      "4::Waiting to Exhale (1995)::Comedy|Drama\n",
      "5::Father of the Bride Part II (1995)::Comedy\n",
      "6::Heat (1995)::Action|Crime|Thriller\n",
      "7::Sabrina (1995)::Comedy|Romance\n",
      "8::Tom and Huck (1995)::Adventure|Children's\n",
      "9::Sudden Death (1995)::Action\n",
      "10::GoldenEye (1995)::Action|Adventure|Thriller\n"
     ]
    }
   ],
   "source": [
    "# Prévia do layout dos arquivos\n",
    "!head README -n5\n",
    "!echo\n",
    "!head movies.dat"
   ]
  },
  {
   "cell_type": "code",
   "execution_count": 3,
   "metadata": {
    "collapsed": false,
    "scrolled": true
   },
   "outputs": [
    {
     "name": "stderr",
     "output_type": "stream",
     "text": [
      "/home/tiago/.virtualenvs/pandas/lib/python3.4/site-packages/pandas/io/parsers.py:648: ParserWarning: Falling back to the 'python' engine because the 'c' engine does not support regex separators; you can avoid this warning by specifying engine='python'.\n",
      "  ParserWarning)\n"
     ]
    }
   ],
   "source": [
    "mnames = ['movie_id', 'title', 'genres']\n",
    "movies = pd.read_table('movies.dat', sep='::', header=None, names=mnames)\n",
    "\n",
    "unames = ['user_id', 'gender', 'age', 'occupation', 'zip']\n",
    "users = pd.read_table('users.dat', sep='::', header=None, names=unames)\n",
    "\n",
    "rnames = ['user_id', 'movie_id', 'rating', 'timestamp']\n",
    "ratings = pd.read_table('ratings.dat', sep='::', header=None, names=rnames)\n",
    "\n"
   ]
  },
  {
   "cell_type": "code",
   "execution_count": 4,
   "metadata": {
    "collapsed": false
   },
   "outputs": [
    {
     "data": {
      "text/plain": [
       "   movie_id                               title                        genres\n",
       "0         1                    Toy Story (1995)   Animation|Children's|Comedy\n",
       "1         2                      Jumanji (1995)  Adventure|Children's|Fantasy\n",
       "2         3             Grumpier Old Men (1995)                Comedy|Romance\n",
       "3         4            Waiting to Exhale (1995)                  Comedy|Drama\n",
       "4         5  Father of the Bride Part II (1995)                        Comedy"
      ]
     },
     "execution_count": 4,
     "metadata": {},
     "output_type": "execute_result"
    }
   ],
   "source": [
    "movies.head()"
   ]
  },
  {
   "cell_type": "code",
   "execution_count": 5,
   "metadata": {
    "collapsed": false
   },
   "outputs": [
    {
     "data": {
      "text/plain": [
       "   user_id gender  age  occupation    zip\n",
       "0        1      F    1          10  48067\n",
       "1        2      M   56          16  70072\n",
       "2        3      M   25          15  55117\n",
       "3        4      M   45           7  02460\n",
       "4        5      M   25          20  55455"
      ]
     },
     "execution_count": 5,
     "metadata": {},
     "output_type": "execute_result"
    }
   ],
   "source": [
    "users.head()"
   ]
  },
  {
   "cell_type": "code",
   "execution_count": 6,
   "metadata": {
    "collapsed": false
   },
   "outputs": [
    {
     "data": {
      "text/plain": [
       "   user_id  movie_id  rating  timestamp\n",
       "0        1      1193       5  978300760\n",
       "1        1       661       3  978302109\n",
       "2        1       914       3  978301968\n",
       "3        1      3408       4  978300275\n",
       "4        1      2355       5  978824291"
      ]
     },
     "execution_count": 6,
     "metadata": {},
     "output_type": "execute_result"
    }
   ],
   "source": [
    "ratings.head()"
   ]
  },
  {
   "cell_type": "code",
   "execution_count": 7,
   "metadata": {
    "collapsed": false
   },
   "outputs": [
    {
     "name": "stdout",
     "output_type": "stream",
     "text": [
      "<class 'pandas.core.frame.DataFrame'>\n",
      "Int64Index: 1000209 entries, 0 to 1000208\n",
      "Data columns (total 10 columns):\n",
      "user_id       1000209 non-null int64\n",
      "movie_id      1000209 non-null int64\n",
      "rating        1000209 non-null int64\n",
      "timestamp     1000209 non-null int64\n",
      "gender        1000209 non-null object\n",
      "age           1000209 non-null int64\n",
      "occupation    1000209 non-null int64\n",
      "zip           1000209 non-null object\n",
      "title         1000209 non-null object\n",
      "genres        1000209 non-null object\n",
      "dtypes: int64(6), object(4)\n",
      "memory usage: 83.9+ MB\n"
     ]
    }
   ],
   "source": [
    "data = pd.merge(pd.merge(ratings, users), movies)\n",
    "data.info()"
   ]
  },
  {
   "cell_type": "code",
   "execution_count": 8,
   "metadata": {
    "collapsed": false
   },
   "outputs": [
    {
     "data": {
      "text/plain": [
       "Index(['2001: A Space Odyssey (1968)', 'Abyss, The (1989)',\n",
       "       'African Queen, The (1951)', 'Air Force One (1997)', 'Airplane! (1980)',\n",
       "       'Aladdin (1992)', 'Alien (1979)', 'Aliens (1986)', 'Amadeus (1984)',\n",
       "       'American Beauty (1999)', \n",
       "       ...\n",
       "       'Untouchables, The (1987)', 'Usual Suspects, The (1995)',\n",
       "       'Wayne's World (1992)', 'When Harry Met Sally... (1989)',\n",
       "       'Who Framed Roger Rabbit? (1988)',\n",
       "       'Willy Wonka and the Chocolate Factory (1971)', 'Witness (1985)',\n",
       "       'Wizard of Oz, The (1939)', 'X-Men (2000)',\n",
       "       'Young Frankenstein (1974)'],\n",
       "      dtype='object', name='title', length=207)"
      ]
     },
     "execution_count": 8,
     "metadata": {},
     "output_type": "execute_result"
    }
   ],
   "source": [
    "# Buscar filmes com mais de 1000 votos\n",
    "rating_counts = data.groupby('title').size()\n",
    "freq_titles = rating_counts.index[rating_counts > 1000]\n",
    "freq_titles"
   ]
  },
  {
   "cell_type": "code",
   "execution_count": 9,
   "metadata": {
    "collapsed": false
   },
   "outputs": [
    {
     "data": {
      "text/plain": [
       "title\n",
       "Life Is Beautiful (La Vita � bella) (1997)                                     4.329861\n",
       "Monty Python and the Holy Grail (1974)                                         4.335210\n",
       "Saving Private Ryan (1998)                                                     4.337354\n",
       "Chinatown (1974)                                                               4.339241\n",
       "Silence of the Lambs, The (1991)                                               4.351823\n",
       "Godfather: Part II, The (1974)                                                 4.357565\n",
       "North by Northwest (1959)                                                      4.384030\n",
       "Citizen Kane (1941)                                                            4.388889\n",
       "One Flew Over the Cuckoo's Nest (1975)                                         4.390725\n",
       "Maltese Falcon, The (1941)                                                     4.395973\n",
       "Sixth Sense, The (1999)                                                        4.406263\n",
       "Casablanca (1942)                                                              4.412822\n",
       "Dr. Strangelove or: How I Learned to Stop Worrying and Love the Bomb (1963)    4.449890\n",
       "Star Wars: Episode IV - A New Hope (1977)                                      4.453694\n",
       "Rear Window (1954)                                                             4.476190\n",
       "Raiders of the Lost Ark (1981)                                                 4.477725\n",
       "Schindler's List (1993)                                                        4.510417\n",
       "Usual Suspects, The (1995)                                                     4.517106\n",
       "Godfather, The (1972)                                                          4.524966\n",
       "Shawshank Redemption, The (1994)                                               4.554558\n",
       "Name: rating, dtype: float64"
      ]
     },
     "execution_count": 9,
     "metadata": {},
     "output_type": "execute_result"
    }
   ],
   "source": [
    "# Demonstrar chain passo a passo\n",
    "highest_rated = data.groupby('title').rating.mean()[freq_titles].order()[-20:]\n",
    "highest_rated"
   ]
  },
  {
   "cell_type": "code",
   "execution_count": 11,
   "metadata": {
    "collapsed": false
   },
   "outputs": [
    {
     "data": {
      "text/plain": [
       "gender                       F     M\n",
       "title                               \n",
       "Casablanca (1942)          505  1164\n",
       "Chinatown (1974)           255   930\n",
       "Citizen Kane (1941)        280   836\n",
       "Dr. Strangelove or: How I  231  1136\n",
       "Godfather, The (1972)      483  1740\n",
       "Godfather: Part II, The (  342  1350\n",
       "Life Is Beautiful (La Vit  367   785\n",
       "Maltese Falcon, The (1941  235   808\n",
       "Monty Python and the Holy  352  1247\n",
       "North by Northwest (1959)  332   983\n",
       "One Flew Over the Cuckoo'  444  1281\n",
       "Raiders of the Lost Ark (  572  1942\n",
       "Rear Window (1954)         291   759\n",
       "Saving Private Ryan (1998  575  2078\n",
       "Schindler's List (1993)    615  1689\n",
       "Shawshank Redemption, The  627  1600\n",
       "Silence of the Lambs, The  706  1872\n",
       "Sixth Sense, The (1999)    664  1795\n",
       "Star Wars: Episode IV - A  647  2344\n",
       "Usual Suspects, The (1995  413  1370"
      ]
     },
     "execution_count": 11,
     "metadata": {},
     "output_type": "execute_result"
    }
   ],
   "source": [
    "filtered = data[data.title.isin(highest_rated.index)]\n",
    "filtered.title = filtered.title.str[:25]\n",
    "filtered.groupby(['title', 'gender']).rating.count().unstack()"
   ]
  },
  {
   "cell_type": "code",
   "execution_count": 12,
   "metadata": {
    "collapsed": false,
    "scrolled": true
   },
   "outputs": [
    {
     "data": {
      "text/plain": [
       "gender                                             F         M\n",
       "title                                                         \n",
       "Year of the Horse (1997)                         NaN  3.250000\n",
       "Yellow Submarine (1968)                     3.714286  3.689286\n",
       "Yojimbo (1961)                              4.423077  4.402116\n",
       "You Can't Take It With You (1938)           4.192308  3.921569\n",
       "You So Crazy (1994)                         3.666667  2.300000\n",
       "You've Got Mail (1998)                      3.542424  3.275591\n",
       "Young Doctors in Love (1982)                1.923077  2.742424\n",
       "Young Frankenstein (1974)                   4.289963  4.239177\n",
       "Young Guns (1988)                           3.371795  3.425620\n",
       "Young Guns II (1990)                        2.934783  2.904025\n",
       "Young Poisoner's Handbook, The (1995)       4.000000  3.532258\n",
       "Young Sherlock Holmes (1985)                3.514706  3.363344\n",
       "Young and Innocent (1937)                   2.500000  3.500000\n",
       "Your Friends and Neighbors (1998)           2.888889  3.536585\n",
       "Zachariah (1971)                                 NaN  3.500000\n",
       "Zed & Two Noughts, A (1985)                 3.500000  3.380952\n",
       "Zero Effect (1998)                          3.864407  3.723140\n",
       "Zero Kelvin (Kj�rlighetens kj�tere) (1995)       NaN  3.500000\n",
       "Zeus and Roxanne (1997)                     2.777778  2.357143\n",
       "eXistenZ (1999)                             3.098592  3.289086"
      ]
     },
     "execution_count": 12,
     "metadata": {},
     "output_type": "execute_result"
    }
   ],
   "source": [
    "# Notação de tabela dinâmica \n",
    "mean_ratings = data.pivot_table('rating', index='title',\n",
    "                                columns=['gender'], aggfunc='mean')\n",
    "mean_ratings.tail(20)"
   ]
  },
  {
   "cell_type": "code",
   "execution_count": null,
   "metadata": {
    "collapsed": true
   },
   "outputs": [],
   "source": []
  }
 ],
 "metadata": {
  "kernelspec": {
   "display_name": "Python 3",
   "language": "python",
   "name": "python3"
  },
  "language_info": {
   "codemirror_mode": {
    "name": "ipython",
    "version": 3
   },
   "file_extension": ".py",
   "mimetype": "text/x-python",
   "name": "python",
   "nbconvert_exporter": "python",
   "pygments_lexer": "ipython3",
   "version": "3.4.0"
  }
 },
 "nbformat": 4,
 "nbformat_minor": 0
}
